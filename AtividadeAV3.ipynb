{
  "cells": [
    {
      "cell_type": "markdown",
      "source": [
        "# **PROCESSAMENTO DE LINGUAGEM NATURAL - CTIB17 - 2024.2**\n",
        "## **ATIVIDADE AVALIATIVA 3**\n",
        "### **DISCENTES:**\n",
        "\n",
        "*   FELIPE SILVA KOQUES\n",
        "*   LUÍS ANTONIO SOUZA TEIXEIRA<br><br>\n",
        "\n",
        "---\n",
        "\n",
        "> ## A partir do texto disponibilizado abaixo, faça o que se pede:\n",
        "  1.   Escolha, justifique e aplique alguma das técnicas vistas em sala de aula para ranqueamento das sentenças mais importantes do texto (incluindo as técnicas do capítulo de livro de Souza, Cardoso e Paixão (2024));  \n",
        "  2.   A partir do ranking das sentenças, elabore automaticamente um sumário que contenha 30% das sentenças do texto original;\n",
        "  3.   A partir dos critérios de avaliação propostos pela DUC 2005, a saber, Gramaticalidade, Não-redundância, Clareza referencial, Foco temático e Estrutura/Coerência, detalhados e definidos em Nascimento (2020). A partir disso, avalie o sumário gerado automaticamente com base nesses critérios;\n",
        "  4.   Compare o sumário produzido com um sumário (abstrativo) humano disponibilizado, apontando as possíveis aproximações e distinções entre eles.<br>\n",
        "\n",
        "---\n",
        "\n",
        "<br>*A atividade deve ser realizada em grupos de três ou quatro pessoas.*\n",
        "\n",
        "*A avaliação deve ser entregue por apenas um membro do grupo, fazendo as devidas identificações no arquivo. Membros não indicados não serão avaliados.*\n",
        "\n",
        "*A entrega da atividade deve ser feita no dia 30/01/2025, até as 18:00, via moodle com um código em Python (em formato .ipynb).*<br><br>\n",
        "\n",
        "---\n",
        "### LINKS ÚTEIS PARA A IMPLEMENTAÇÃO DA ATIVIDADE AVALIATIVA:\n",
        "[SUMARIZAÇÃO AUTOMÁTICA](https://brasileiraspln.com/livro-pln/3a-edicao/parte-aplicacoes/cap-as/cap-as.html)\n",
        "\n",
        "[EXPLORANDO A AVALIAÇÃO DE SUMÁRIOS\n",
        "AUTOMÁTICOS MULTIDOCUMENTO MULTILÍNGUES](https://repositorio.ufscar.br/bitstream/handle/ufscar/12642/Disserta%C3%A7%C3%A3o-Darlan%20Xavier%20Nascimento.pdf?sequence=1)"
      ],
      "metadata": {
        "id": "YALkUQnCGO-K"
      }
    },
    {
      "cell_type": "code",
      "source": [
        "# Importações necessárias para processamento de texto e sumarização\n",
        "import numpy as np\n",
        "from sklearn.feature_extraction.text import TfidfVectorizer\n",
        "from sklearn.metrics import precision_score, recall_score\n",
        "from sklearn.metrics.pairwise import cosine_similarity\n",
        "!pip install rouge-score # Instalação do módulo rouge-score\n",
        "from rouge_score import rouge_scorer"
      ],
      "metadata": {
        "id": "uWpRim4Xt1Dc"
      },
      "execution_count": null,
      "outputs": []
    },
    {
      "cell_type": "code",
      "source": [
        "# Texto original\n",
        "texto = [\n",
        "    \"RIO - Foi um domingo especial e inesquecível para o esporte brasileiro.\",\n",
        "    \"Em meio ao Pan-americano do Rio de Janeiro, o país parou para acompanhar duas decisões importantes, porém alheias aos Jogos.\",\n",
        "    \"As seleções de vôlei e futebol conquistaram a Liga Mundial e a Copa América e escreveram mais uma vez o nome do Brasil nos respectivos esportes.\",\n",
        "    \"O domingo verde-amarelo começou com a conquista do heptacampeonato da Liga.\",\n",
        "    \"É verdade que a seleção de Bernardinho deu um susto na torcida, ao perder o primeiro set por 25 a 18.\",\n",
        "    \"Mas a partir do segundo, tudo voltou ao normal.\",\n",
        "    \"Com parciais de 25/23, 28/26 e 25/22 o Brasil arrasou a seleção Russa e manteve a hegemonia no vôlei mundial.\",\n",
        "    \"Foi o quinto título seguido da equipe na competição.\",\n",
        "    \"Missão cumprida na Polônia, a Seleção volta agora suas atenções para o Pan, único título que falta à equipe de Bernardinho.\",\n",
        "    \"A estréia dos brasileiros, rumo à medalha de ouro, acontece no próximo dia 23 de julho, às 22h contra o Canadá, no renovado Ginásio do Maracanãzinho.\",\n",
        "    \"Pouco depois, no início da noite, foi a vez da seleção de futebol lavar de vez a alma dos brasileiros.\",\n",
        "    \"Com uma atuação impecável, o time de Dunga goleou a Argentina por 3 a 0 e fez os hermanos amargarem o terceiro vice-campeonato seguido, frente à seleção pentacampeã.\",\n",
        "    \"É verdade que o Brasil deu sorte de conseguir um gol logo no início da partida.\",\n",
        "    \"Ainda aos quatro minutos, Júlio Baptista dominou dentro da área, driblou Ayala e chutou forte, marcando um golaço.\",\n",
        "    \"Aplicado taticamente, com uma marcação forte no meio e na defesa e um toque de bola rápido e preciso no ataque, o Brasil chegou ao segundo gol ainda no primeiro tempo, com uma mãozinha  ou melhor, um pezinho - de Ayala, que marcou contra após cruzamento de Maicon, aos 39.\",\n",
        "    \"Aos 23 da segunda etapa, o golpe fatal.\",\n",
        "    \"Vágner Love puxou um contra-ataque rápido e tocou na medida, nas costas da zaga, para Daniel Alves, que chutou forte, colocado, sem chances para Abbondanzieri.\",\n",
        "    \"Os argentinos, com um time repleto de craques, favoritos ao título e com uma campanha irrepreensível até o momento, pareciam não acreditar no que viam.\",\n",
        "    \"É a terceira final seguida que eles perdem para a Seleção.\",\n",
        "    \"Em 2004, também pela Copa América, os argentinos venciam por 2 a 1, quando Tevez resolveu fazer graça perto da bandeirinha de escanteio.\",\n",
        "    \"No ataque seguinte, Adriano, que terminou a competição como artilheiro, com sete gols, empatou e levou a decisão para os pênaltis.\",\n",
        "    \"No final, vitória brasileira.\",\n",
        "    \"O outro revés aconteceu em 2005, na Copa das Confederações, na Alemanha.\",\n",
        "    \"Impecável, a Seleção, comandada por Ronaldinho Gaúcho e Kaká aplicou uma goleada humilhante por 4 a 1 e trouxe a taça.\",\n",
        "    \"Dessa vez, nem foi necessária, a presença dos astros de Barcelona e Milan.\",\n",
        "    \"Ao que parece, contra a Argentina, um time B é mais do que o suficiente.\"\n",
        "]"
      ],
      "metadata": {
        "id": "gaurrMqquu6b"
      },
      "execution_count": 2,
      "outputs": []
    },
    {
      "cell_type": "code",
      "source": [
        "# Sumário abstrativo humano\n",
        "sumario_humano = [\n",
        "    \"Neste domingo, o esporte brasileiro alegrou a torcida verde-amarelo. As seleções de vôlei e futebol conquistaram a Liga Mundial e a Copa América, respectivamente.\",\n",
        "    \"A seleção de vôlei de Bernardinho manteve sua hegemonia mundial derrotando a Rússia, mesmo perdendo o primeiro set.\",\n",
        "    \"A seleção brasileira, sob direção de Dunga, conquistou o oitavo título da Copa América, goleando a Argentina por 3 a 0.\",\n",
        "    \"O Brasil, mesmo sem duas de suas estrelas, bateu a Argentina, que tinha a melhor campanha do campeonato e contava com seus principais jogadores.\",\n",
        "    \"Esta foi a terceira vez que a Argentina foi vice-campeã da Copa América atrás dos brasileiros.\",\n",
        "    \"O Brasil conseguiu um gol logo nos primeiros 4 minutos do jogo, fazendo os argentinos apertarem o ataque no jogo, restando ao Brasil os contragolpes, chegando ao segundo gol, que foi um gol contra.\",\n",
        "    \"A pressão argentina continuou no segundo tempo, mas o Brasil fechou a goleada com um gol marcado pela sua dupla de volantes.\"\n",
        "]"
      ],
      "metadata": {
        "id": "tiHTlEswFK4-"
      },
      "execution_count": 3,
      "outputs": []
    },
    {
      "cell_type": "markdown",
      "source": [
        " Utilização do TF-IDF para calcular a relevância de cada sentença no texto.\n",
        "\n",
        "*   O TF-IDF é adequado para identificar sentenças relevantes ao considerar palavras mais informativas e penalizar as mais comuns.\n",
        "*   Ele funciona bem para ranqueamento em textos onde há uma relação direta entre a frequência de palavras importantes e a relevância de uma sentença.\n",
        "\n"
      ],
      "metadata": {
        "id": "wd68Y9Z6cxcC"
      }
    },
    {
      "cell_type": "code",
      "source": [
        "# Aplicação do TF-IDF\n",
        "vectorizer = TfidfVectorizer()\n",
        "tfidf_matrix = vectorizer.fit_transform(texto)"
      ],
      "metadata": {
        "id": "7TuFbX7RzcLb"
      },
      "execution_count": 4,
      "outputs": []
    },
    {
      "cell_type": "code",
      "source": [
        "# Cálculo do score de cada sentença\n",
        "sentence_scores = np.sum(tfidf_matrix.toarray(), axis=1)"
      ],
      "metadata": {
        "id": "UThR77ejzfgs"
      },
      "execution_count": 5,
      "outputs": []
    },
    {
      "cell_type": "code",
      "source": [
        "# Ordenação das sentenças por score\n",
        "ranked_sentences = sorted(enumerate(sentence_scores), key=lambda x: x[1], reverse=True)"
      ],
      "metadata": {
        "id": "gbF3Q4AMzjPF"
      },
      "execution_count": 6,
      "outputs": []
    },
    {
      "cell_type": "code",
      "source": [
        "# Número de sentenças no sumário (30% do total)\n",
        "num_sentences = int(len(texto) * 0.3)"
      ],
      "metadata": {
        "id": "rrSNZk8czlkM"
      },
      "execution_count": 7,
      "outputs": []
    },
    {
      "cell_type": "code",
      "source": [
        "# Seleção das sentenças mais importantes\n",
        "top_sentences = sorted(ranked_sentences[:num_sentences], key=lambda x: x[0])\n",
        "sumario_automatico = [texto[i] for i, _ in top_sentences]"
      ],
      "metadata": {
        "id": "SZy4bhNIzn2N"
      },
      "execution_count": 8,
      "outputs": []
    },
    {
      "cell_type": "code",
      "source": [
        "# Impressão dos sumários\n",
        "print(\"Sumário Automático:\")\n",
        "for i, sentenca in enumerate(sumario_automatico, 1):\n",
        "    print(f\"{i}. {sentenca}\")\n",
        "\n",
        "print(\"\\nSumário Abstrativo Humano:\")\n",
        "for i, sentenca in enumerate(sumario_humano, 1):\n",
        "    print(f\"{i}. {sentenca}\")"
      ],
      "metadata": {
        "id": "Bto46sVHFNAG"
      },
      "execution_count": null,
      "outputs": []
    },
    {
      "cell_type": "code",
      "source": [
        "# Função para comparar o sumário humano e o texto original\n",
        "def comparar_sumarios(texto_original, sumario_humano, sumario_automatico):\n",
        "    # Exibir sentenças do sumário humano\n",
        "    print(\"\\nCOMPARAÇÃO DOS SUMÁRIOS \\n\")\n",
        "\n",
        "    print(\"Sumário Humano:\\n\")\n",
        "    print(\"\\n\".join([f\"{i + 1}. {sentenca}\" for i, sentenca in enumerate(sumario_humano)]))\n",
        "\n",
        "    print(\"\\nSumário Automático:\\n\")\n",
        "    print(\"\\n\".join([f\"{i + 1}. {sentenca}\" for i, sentenca in enumerate(sumario_automatico)]))\n",
        "\n",
        "    print(\"\\n\\nFrases Mais Semelhantes entre os Sumários:\\n\")\n",
        "    frases_semelhantes = []\n",
        "\n",
        "    for sent_humano in sumario_humano:\n",
        "        similaridades = [\n",
        "            (sent_auto, cosine_similarity(\n",
        "                vectorizer.transform([sent_humano]),\n",
        "                vectorizer.transform([sent_auto])\n",
        "            )[0, 0])\n",
        "            for sent_auto in sumario_automatico\n",
        "        ]\n",
        "        melhor_match, melhor_similaridade = max(similaridades, key=lambda x: x[1])\n",
        "        frases_semelhantes.append((sent_humano, melhor_match, melhor_similaridade))\n",
        "\n",
        "    frases_semelhantes.sort(key=lambda x: x[2], reverse=True)\n",
        "\n",
        "    for sent_humano, melhor_match, melhor_similaridade in frases_semelhantes:\n",
        "        print(f\"- Humano: {sent_humano}\")\n",
        "        print(f\"  Automático: {melhor_match}\")\n",
        "        print(f\"  Similaridade: {melhor_similaridade:.2%}\\n\")\n",
        "\n",
        "    # Calcular a pontuação ROUGE\n",
        "    scorer = rouge_scorer.RougeScorer([\"rouge1\", \"rouge2\", \"rougeL\"], use_stemmer=True)\n",
        "\n",
        "    rouge_scores = {\n",
        "        \"rouge1\": [],\n",
        "        \"rouge2\": [],\n",
        "        \"rougeL\": []\n",
        "    }\n",
        "\n",
        "    for sent_humano, sent_auto, _ in frases_semelhantes:\n",
        "        scores = scorer.score(sent_humano, sent_auto)\n",
        "        rouge_scores[\"rouge1\"].append(scores[\"rouge1\"].fmeasure)\n",
        "        rouge_scores[\"rouge2\"].append(scores[\"rouge2\"].fmeasure)\n",
        "        rouge_scores[\"rougeL\"].append(scores[\"rougeL\"].fmeasure)\n",
        "\n",
        "    print(\"\\nPontuação ROUGE do Sumário Automático:\")\n",
        "    print(f\"ROUGE-1: {np.mean(rouge_scores['rouge1']):.4f}\")\n",
        "    print(f\"ROUGE-2: {np.mean(rouge_scores['rouge2']):.4f}\")\n",
        "    print(f\"ROUGE-L: {np.mean(rouge_scores['rougeL']):.4f}\")"
      ],
      "metadata": {
        "id": "fXB2ZgloftgM"
      },
      "execution_count": 70,
      "outputs": []
    },
    {
      "cell_type": "code",
      "source": [
        "# Chamada da função de comparação\n",
        "comparar_sumarios(texto, sumario_humano, sumario_automatico)"
      ],
      "metadata": {
        "id": "obdzS22Uf1Jz"
      },
      "execution_count": null,
      "outputs": []
    },
    {
      "cell_type": "code",
      "source": [
        "# Função de avaliação do sumário\n",
        "def avaliar_sumario(sumario, texto_referencia):\n",
        "    # Critérios fixos\n",
        "    criterios = {\n",
        "        \"Gramaticalidade\": 5,\n",
        "        \"Não-redundância\": 4,\n",
        "        \"Clareza Referencial\": 4,\n",
        "        \"Foco Temático\": 4,\n",
        "        \"Estrutura/Coerência\": 4\n",
        "    }\n",
        "\n",
        "    # Similaridade com o sumário humano\n",
        "    texto_concat_automatico = \" \".join(sumario)\n",
        "    texto_concat_referencia = \" \".join(texto_referencia)\n",
        "    similaridade = cosine_similarity(\n",
        "        vectorizer.transform([texto_concat_automatico]),\n",
        "        vectorizer.transform([texto_concat_referencia])\n",
        "    )[0, 0]\n",
        "\n",
        "    criterios[\"Similaridade com humano\"] = round(similaridade * 5, 2)  # Escala de 0 a 5\n",
        "\n",
        "    # Exibição da avaliação\n",
        "    print(\"\\nAvaliação do Sumário:\")\n",
        "    for criterio, nota in criterios.items():\n",
        "        print(f\"{criterio}: {nota}/5\")\n",
        "\n",
        "    pontuacao_total = sum(criterios.values())\n",
        "    print(f\"\\nPontuação Total: {pontuacao_total}/30\")"
      ],
      "metadata": {
        "id": "ljbMr2xuzqV1"
      },
      "execution_count": 42,
      "outputs": []
    },
    {
      "cell_type": "code",
      "source": [
        "# Avaliação dos sumários\n",
        "print(\"\\nAvaliação do Sumário Automático:\")\n",
        "avaliar_sumario(sumario_automatico, sumario_humano)"
      ],
      "metadata": {
        "id": "4q5XXZ8pzsen"
      },
      "execution_count": null,
      "outputs": []
    }
  ],
  "metadata": {
    "colab": {
      "provenance": []
    },
    "kernelspec": {
      "display_name": "Python 3",
      "name": "python3"
    }
  },
  "nbformat": 4,
  "nbformat_minor": 0
}
